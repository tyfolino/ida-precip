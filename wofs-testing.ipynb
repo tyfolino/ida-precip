{
 "cells": [
  {
   "cell_type": "code",
   "execution_count": 36,
   "metadata": {},
   "outputs": [],
   "source": [
    "from wofs.post.summary_files import make_summary_file\n",
    "from wofs.post.wofs_cbook import calc_mslp\n",
    "import xarray as xr\n",
    "import matplotlib.pyplot as plt"
   ]
  },
  {
   "cell_type": "code",
   "execution_count": 7,
   "metadata": {},
   "outputs": [],
   "source": [
    "summary_file_config = load_yaml(\n",
    "    \"/home/janoski/frdd-wofs-post-master/test/test_config.yaml\"\n",
    "    )"
   ]
  },
  {
   "cell_type": "code",
   "execution_count": 9,
   "metadata": {},
   "outputs": [],
   "source": [
    "variables_to_save = summary_file_config.get(\"environmental_vars\")"
   ]
  },
  {
   "cell_type": "code",
   "execution_count": 10,
   "metadata": {},
   "outputs": [],
   "source": [
    "metadata_dict = summary_file_config.get(\"metadata_dict\")"
   ]
  },
  {
   "cell_type": "code",
   "execution_count": 11,
   "metadata": {},
   "outputs": [],
   "source": [
    "variables_at_different_plevels = summary_file_config.get(\n",
    "    'variables_at_different_plevels'\n",
    "    )"
   ]
  },
  {
   "cell_type": "code",
   "execution_count": 21,
   "metadata": {},
   "outputs": [],
   "source": [
    "config_file = load_yaml(\"/home/janoski/frdd-wofs-post-master/conf/realtime_config.yaml\")\n",
    "metadata_dict=config_file.get(\"metadata_dict\")\n",
    "var_plevs=config_file.get(\"variables_at_different_plevels\")"
   ]
  },
  {
   "cell_type": "code",
   "execution_count": 23,
   "metadata": {},
   "outputs": [
    {
     "ename": "KeyError",
     "evalue": "'fcstinterval'",
     "output_type": "error",
     "traceback": [
      "\u001b[0;31m---------------------------------------------------------------------------\u001b[0m",
      "\u001b[0;31mKeyError\u001b[0m                                  Traceback (most recent call last)",
      "Cell \u001b[0;32mIn[23], line 2\u001b[0m\n\u001b[1;32m      1\u001b[0m path \u001b[38;5;241m=\u001b[39m \u001b[38;5;124m\"\u001b[39m\u001b[38;5;124m/mnt/drive2/wof-runs/20Z/\u001b[39m\u001b[38;5;124m\"\u001b[39m\n\u001b[0;32m----> 2\u001b[0m \u001b[43mmake_summary_file\u001b[49m\u001b[43m(\u001b[49m\u001b[43m[\u001b[49m\n\u001b[1;32m      3\u001b[0m \u001b[43m    \u001b[49m\u001b[43mpath\u001b[49m\u001b[38;5;241;43m+\u001b[39;49m\u001b[38;5;124;43m\"\u001b[39;49m\u001b[38;5;124;43mwrfwof_d01_2021-09-01_20:00:00.01\u001b[39;49m\u001b[38;5;124;43m\"\u001b[39;49m\u001b[43m,\u001b[49m\n\u001b[1;32m      4\u001b[0m \u001b[43m    \u001b[49m\u001b[43mpath\u001b[49m\u001b[38;5;241;43m+\u001b[39;49m\u001b[38;5;124;43m\"\u001b[39;49m\u001b[38;5;124;43mwrfwof_d01_2021-09-01_20:00:00.02\u001b[39;49m\u001b[38;5;124;43m\"\u001b[39;49m\n\u001b[1;32m      5\u001b[0m \u001b[43m]\u001b[49m\u001b[43m,\u001b[49m\u001b[43mvariables_to_save\u001b[49m\u001b[38;5;241;43m=\u001b[39;49m\u001b[43m[\u001b[49m\u001b[38;5;124;43m\"\u001b[39;49m\u001b[38;5;124;43mmslp\u001b[39;49m\u001b[38;5;124;43m\"\u001b[39;49m\u001b[43m,\u001b[49m\u001b[38;5;124;43m\"\u001b[39;49m\u001b[38;5;124;43mpsfc\u001b[39;49m\u001b[38;5;124;43m\"\u001b[39;49m\u001b[43m]\u001b[49m\u001b[43m,\u001b[49m\u001b[43mvariables_at_different_plevels\u001b[49m\u001b[38;5;241;43m=\u001b[39;49m\u001b[43mvar_plevs\u001b[49m\u001b[43m,\u001b[49m\n\u001b[1;32m      6\u001b[0m \u001b[43msave_name\u001b[49m\u001b[38;5;241;43m=\u001b[39;49m\u001b[38;5;124;43m\"\u001b[39;49m\u001b[38;5;124;43m~/test/test.nc\u001b[39;49m\u001b[38;5;124;43m\"\u001b[39;49m\u001b[43m,\u001b[49m\n\u001b[1;32m      7\u001b[0m \u001b[43mmetadata_dict\u001b[49m\u001b[38;5;241;43m=\u001b[39;49m\u001b[43mmetadata_dict\u001b[49m\u001b[43m,\u001b[49m\u001b[43mmodel_run_type\u001b[49m\u001b[38;5;241;43m=\u001b[39;49m\u001b[38;5;241;43m0\u001b[39;49m\u001b[43m)\u001b[49m\n",
      "File \u001b[0;32m~/miniforge3/envs/wofs_post/lib/python3.10/site-packages/wofs/post/summary_files.py:494\u001b[0m, in \u001b[0;36mmake_summary_file\u001b[0;34m(files_to_load, variables_to_save, save_name, metadata_dict, init_time, valid_time, variables_at_different_plevels, sounding_variables, model_run_type)\u001b[0m\n\u001b[1;32m    483\u001b[0m     sounding_variables \u001b[38;5;241m=\u001b[39m config[\u001b[38;5;124m'\u001b[39m\u001b[38;5;124msounding_variables\u001b[39m\u001b[38;5;124m'\u001b[39m]\n\u001b[1;32m    486\u001b[0m sf \u001b[38;5;241m=\u001b[39m SummaryFile(   files_to_load\u001b[38;5;241m=\u001b[39mfiles_to_load,\n\u001b[1;32m    487\u001b[0m                        variables_to_save\u001b[38;5;241m=\u001b[39mvariables_to_save,\n\u001b[1;32m    488\u001b[0m                        variables_at_different_plevels\u001b[38;5;241m=\u001b[39mvariables_at_different_plevels,\n\u001b[0;32m   (...)\u001b[0m\n\u001b[1;32m    492\u001b[0m                        sounding_variables\u001b[38;5;241m=\u001b[39msounding_variables\n\u001b[1;32m    493\u001b[0m                     )\n\u001b[0;32m--> 494\u001b[0m \u001b[43msf\u001b[49m\u001b[38;5;241;43m.\u001b[39;49m\u001b[43mbuild\u001b[49m\u001b[43m(\u001b[49m\u001b[43msave_name\u001b[49m\u001b[43m)\u001b[49m\n",
      "File \u001b[0;32m~/miniforge3/envs/wofs_post/lib/python3.10/site-packages/wofs/post/summary_files.py:148\u001b[0m, in \u001b[0;36mSummaryFile.build\u001b[0;34m(self, save_name)\u001b[0m\n\u001b[1;32m    146\u001b[0m ensemble_dataset \u001b[38;5;241m=\u001b[39m \u001b[38;5;28mself\u001b[39m\u001b[38;5;241m.\u001b[39mto_xr_dataset(\u001b[38;5;28mself\u001b[39m\u001b[38;5;241m.\u001b[39mdata_to_save)\n\u001b[1;32m    147\u001b[0m \u001b[38;5;66;03m# Append on the attributes\u001b[39;00m\n\u001b[0;32m--> 148\u001b[0m ensemble_dataset \u001b[38;5;241m=\u001b[39m \u001b[38;5;28;43mself\u001b[39;49m\u001b[38;5;241;43m.\u001b[39;49m\u001b[43mappend_attributes\u001b[49m\u001b[43m(\u001b[49m\u001b[43mensemble_dataset\u001b[49m\u001b[43m,\u001b[49m\u001b[43m \u001b[49m\u001b[43msave_name\u001b[49m\u001b[43m)\u001b[49m\n\u001b[1;32m    149\u001b[0m \u001b[38;5;66;03m# Save the file \u001b[39;00m\n\u001b[1;32m    150\u001b[0m \u001b[38;5;28mself\u001b[39m\u001b[38;5;241m.\u001b[39msave_dataset(fname\u001b[38;5;241m=\u001b[39msave_name, dataset\u001b[38;5;241m=\u001b[39mensemble_dataset)\n",
      "File \u001b[0;32m~/miniforge3/envs/wofs_post/lib/python3.10/site-packages/wofs/post/summary_files.py:245\u001b[0m, in \u001b[0;36mSummaryFile.append_attributes\u001b[0;34m(self, dataset, save_name, ignore_vars)\u001b[0m\n\u001b[1;32m    243\u001b[0m dataset\u001b[38;5;241m.\u001b[39mattrs[\u001b[38;5;124m'\u001b[39m\u001b[38;5;124mny\u001b[39m\u001b[38;5;124m'\u001b[39m] \u001b[38;5;241m=\u001b[39m \u001b[38;5;124mf\u001b[39m\u001b[38;5;124m\"\u001b[39m\u001b[38;5;132;01m{\u001b[39;00m\u001b[38;5;28mself\u001b[39m\u001b[38;5;241m.\u001b[39mwrf_attributes[\u001b[38;5;124m'\u001b[39m\u001b[38;5;124mSOUTH-NORTH_PATCH_END_UNSTAG\u001b[39m\u001b[38;5;124m'\u001b[39m]\u001b[38;5;132;01m}\u001b[39;00m\u001b[38;5;124m\"\u001b[39m\n\u001b[1;32m    244\u001b[0m dataset\u001b[38;5;241m.\u001b[39mattrs[\u001b[38;5;124m'\u001b[39m\u001b[38;5;124mnx\u001b[39m\u001b[38;5;124m'\u001b[39m] \u001b[38;5;241m=\u001b[39m \u001b[38;5;124mf\u001b[39m\u001b[38;5;124m\"\u001b[39m\u001b[38;5;132;01m{\u001b[39;00m\u001b[38;5;28mself\u001b[39m\u001b[38;5;241m.\u001b[39mwrf_attributes[\u001b[38;5;124m'\u001b[39m\u001b[38;5;124mWEST-EAST_PATCH_END_UNSTAG\u001b[39m\u001b[38;5;124m'\u001b[39m]\u001b[38;5;132;01m}\u001b[39;00m\u001b[38;5;124m\"\u001b[39m\n\u001b[0;32m--> 245\u001b[0m dataset\u001b[38;5;241m.\u001b[39mattrs[\u001b[38;5;124m'\u001b[39m\u001b[38;5;124mfcstinterval\u001b[39m\u001b[38;5;124m'\u001b[39m] \u001b[38;5;241m=\u001b[39m \u001b[38;5;28;43mself\u001b[39;49m\u001b[38;5;241;43m.\u001b[39;49m\u001b[43mmetadata_dict\u001b[49m\u001b[43m[\u001b[49m\u001b[38;5;124;43m'\u001b[39;49m\u001b[38;5;124;43mfcstinterval\u001b[39;49m\u001b[38;5;124;43m'\u001b[39;49m\u001b[43m]\u001b[49m \n\u001b[1;32m    246\u001b[0m dataset\u001b[38;5;241m.\u001b[39mattrs[\u001b[38;5;124m'\u001b[39m\u001b[38;5;124mstart_lon\u001b[39m\u001b[38;5;124m'\u001b[39m] \u001b[38;5;241m=\u001b[39m dataset[\u001b[38;5;124m'\u001b[39m\u001b[38;5;124mxlon\u001b[39m\u001b[38;5;124m'\u001b[39m]\u001b[38;5;241m.\u001b[39mvalues[\u001b[38;5;241m0\u001b[39m,\u001b[38;5;241m0\u001b[39m]\n\u001b[1;32m    247\u001b[0m dataset\u001b[38;5;241m.\u001b[39mattrs[\u001b[38;5;124m'\u001b[39m\u001b[38;5;124mstart_lat\u001b[39m\u001b[38;5;124m'\u001b[39m] \u001b[38;5;241m=\u001b[39m dataset[\u001b[38;5;124m'\u001b[39m\u001b[38;5;124mxlat\u001b[39m\u001b[38;5;124m'\u001b[39m]\u001b[38;5;241m.\u001b[39mvalues[\u001b[38;5;241m0\u001b[39m,\u001b[38;5;241m0\u001b[39m]\n",
      "\u001b[0;31mKeyError\u001b[0m: 'fcstinterval'"
     ]
    }
   ],
   "source": [
    "path = \"/mnt/drive2/wof-runs/20Z/\"\n",
    "make_summary_file([\n",
    "    path+\"wrfwof_d01_2021-09-01_20:00:00.01\",\n",
    "    path+\"wrfwof_d01_2021-09-01_20:00:00.02\"\n",
    "],variables_to_save=[\"mslp\",\"psfc\"],variables_at_different_plevels=var_plevs,\n",
    "save_name=\"~/test/test.nc\",\n",
    "metadata_dict=metadata_dict,model_run_type=0)"
   ]
  },
  {
   "cell_type": "code",
   "execution_count": 32,
   "metadata": {},
   "outputs": [],
   "source": [
    "path = \"/mnt/drive2/wof-runs/21Z/\"\n",
    "t = xr.open_dataset(path+\"wrfwof_d01_2021-09-01_21:00:00.01\").T2\n",
    "hgt = xr.open_dataset(path+\"wrfwof_d01_2021-09-01_21:00:00.01\").HGT\n",
    "psfc = xr.open_dataset(path+\"wrfwof_d01_2021-09-01_21:00:00.01\").PSFC\n"
   ]
  },
  {
   "cell_type": "code",
   "execution_count": 39,
   "metadata": {},
   "outputs": [],
   "source": [
    "mslp = calc_mslp(t,hgt,psfc).squeeze()"
   ]
  },
  {
   "cell_type": "code",
   "execution_count": 42,
   "metadata": {},
   "outputs": [
    {
     "data": {
      "text/plain": [
       "<matplotlib.contour.QuadContourSet at 0x7fabd7a31120>"
      ]
     },
     "execution_count": 42,
     "metadata": {},
     "output_type": "execute_result"
    }
   ],
   "source": [
    "plt.contour(mslp)"
   ]
  },
  {
   "cell_type": "code",
   "execution_count": null,
   "metadata": {},
   "outputs": [],
   "source": []
  }
 ],
 "metadata": {
  "kernelspec": {
   "display_name": "wofs_post",
   "language": "python",
   "name": "python3"
  },
  "language_info": {
   "codemirror_mode": {
    "name": "ipython",
    "version": 3
   },
   "file_extension": ".py",
   "mimetype": "text/x-python",
   "name": "python",
   "nbconvert_exporter": "python",
   "pygments_lexer": "ipython3",
   "version": "3.10.13"
  }
 },
 "nbformat": 4,
 "nbformat_minor": 2
}
