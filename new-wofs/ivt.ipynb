{
 "cells": [
  {
   "cell_type": "markdown",
   "metadata": {},
   "source": [
    "# Integrated Water Vapor Transport"
   ]
  },
  {
   "cell_type": "markdown",
   "metadata": {},
   "source": [
    "## Setup"
   ]
  },
  {
   "cell_type": "code",
   "execution_count": 4,
   "metadata": {},
   "outputs": [],
   "source": [
    "# Import statements\n",
    "import xarray as xr\n",
    "import matplotlib.pyplot as plt\n",
    "from typing import List\n",
    "import cartopy.crs as ccrs\n",
    "import cartopy.feature as cfeature\n",
    "import numpy as np\n",
    "import xskillscore as xs\n",
    "\n",
    "plt.style.use(\"dark_background\")\n"
   ]
  },
  {
   "cell_type": "code",
   "execution_count": 5,
   "metadata": {},
   "outputs": [],
   "source": [
    "# Define useful functions\n",
    "def get_wofs_all(init: int) -> xr.Dataset:\n",
    "    \"\"\"Read in WoFS output based on initialization time.\"\"\"\n",
    "    file_pattern = f\"/mnt/drive2/new-wofs/{init:02d}Z/wofs_ALL*.nc\"\n",
    "    loaded = xr.open_mfdataset(\n",
    "        file_pattern, combine=\"nested\", concat_dim=\"time\", chunks=\"auto\"\n",
    "    )\n",
    "\n",
    "    if init < 6:\n",
    "        start_time = f\"2021-09-02 {init:02d}:00:00\"\n",
    "        end_time = f\"2021-09-02 {init + 6:02d}:00:00\"\n",
    "    else:\n",
    "        start_time = f\"2021-09-01 {init:02d}:00:00\"\n",
    "        end_time = f\"2021-09-02 {init - 24 + 6:02d}:00:00\"\n",
    "\n",
    "    loaded[\"time\"] = xr.cftime_range(start_time, end_time, freq=\"5min\")\n",
    "    return loaded\n",
    "\n",
    "\n",
    "def extract_variable(\n",
    "    ds: List[xr.Dataset],\n",
    "    varname: str,\n",
    "    dim: xr.DataArray,\n",
    "    times: List[str] | None = None,\n",
    ") -> xr.DataArray:\n",
    "    if times is None:\n",
    "        return xr.concat(\n",
    "            [d[varname] for d in ds],\n",
    "            dim=dim,\n",
    "        ).chunk({dim.name: -1})\n",
    "    else:\n",
    "        ds_list = []\n",
    "        for t in times:\n",
    "            ds_list.append(\n",
    "                xr.concat(\n",
    "                    [d[varname] for d in ds],\n",
    "                    dim=dim,\n",
    "                )\n",
    "                .chunk({dim.name: -1})\n",
    "                .sel(time=t)\n",
    "            )\n",
    "        return xr.concat(ds_list, dim=\"time\")\n"
   ]
  },
  {
   "cell_type": "code",
   "execution_count": 6,
   "metadata": {},
   "outputs": [],
   "source": [
    "# Read in 20-23Z initializations\n",
    "wofs_all = [get_wofs_all(n) for n in range(20, 24, 1)]\n"
   ]
  },
  {
   "cell_type": "code",
   "execution_count": 7,
   "metadata": {},
   "outputs": [],
   "source": [
    "# Define variables and parameters\n",
    "lat = wofs_all[0].xlat.isel(time=0).squeeze().drop_vars(\"time\")\n",
    "lon = wofs_all[0].xlon.isel(time=0).squeeze().drop_vars(\"time\")\n",
    "\n",
    "lat_coarse = (\n",
    "    wofs_all[0]\n",
    "    .xlat_snd.isel(time=0)\n",
    "    .squeeze()\n",
    "    .drop_vars(\"time\")\n",
    "    .rename(dict(dim_0=\"ny\", dim_1=\"nx\"))\n",
    ")\n",
    "lon_coarse = (\n",
    "    wofs_all[0]\n",
    "    .xlon_snd.isel(time=0)\n",
    "    .squeeze()\n",
    "    .drop_vars(\"time\")\n",
    "    .rename(dict(dim_0=\"ny\", dim_1=\"nx\"))\n",
    ")\n",
    "\n",
    "# Set up Cartopy projection\n",
    "proj = ccrs.LambertConformal(\n",
    "    central_longitude=wofs_all[0].attrs[\"CEN_LON\"],\n",
    "    central_latitude=wofs_all[0].attrs[\"CEN_LAT\"],\n",
    "    standard_parallels=(30, 60),\n",
    ")  # WoFS projection\n",
    "\n",
    "# Create a DataArray for the initialization dimension\n",
    "init = xr.DataArray(data=[\"20Z\", \"21Z\", \"22Z\", \"23Z\"], dims=\"init\").assign_coords(\n",
    "    {\"init\": [\"20Z\", \"21Z\", \"22Z\", \"23Z\"]}\n",
    ").rename(\"init\")"
   ]
  },
  {
   "cell_type": "markdown",
   "metadata": {},
   "source": [
    "## Calculate IVT"
   ]
  },
  {
   "cell_type": "code",
   "execution_count": 8,
   "metadata": {},
   "outputs": [],
   "source": [
    "# Select times and extract variables from the list of WoFS initializations\n",
    "times = [\"2021-09-01 23:00:00\", \"2021-09-02 00:00:00\", \"2021-09-02 01:00:00\"]\n",
    "u = extract_variable(wofs_all, \"u\", init, times=times)\n",
    "v = extract_variable(wofs_all, \"v\", init, times=times)\n",
    "q = extract_variable(wofs_all, \"q\", init, times=times)\n",
    "p = extract_variable(wofs_all, \"p\", init, times=times) * 100  # convert to Pa\n",
    "p = p.assign_attrs(dict(units=\"Pa\"))\n",
    "\n",
    "# multiply q by horizontal components of the wind\n",
    "uq = u * q\n",
    "vq = v * q\n",
    "\n",
    "# calculate pressure layer thicknesses (dp)\n",
    "dp = p.where(p > 30000).diff(dim=\"nz\") * -1  # -1 because of coordinate orientation\n",
    "\n",
    "# Vertically integrate along pressure coordinate using trapezoidal rule\n",
    "ivt_u = (((uq.isel(nz=slice(1, None)) + uq.isel(nz=slice(None, -1))) / 2) * dp).sum(\n",
    "    dim=\"nz\"\n",
    ") / 9.81\n",
    "ivt_v = (((vq.isel(nz=slice(1, None)) + vq.isel(nz=slice(None, -1))) / 2) * dp).sum(\n",
    "    dim=\"nz\"\n",
    ") / 9.81\n"
   ]
  },
  {
   "cell_type": "markdown",
   "metadata": {},
   "source": [
    "## Get NYC rainfall"
   ]
  },
  {
   "cell_type": "code",
   "execution_count": 9,
   "metadata": {},
   "outputs": [],
   "source": [
    "# Get the 01 to 02 UTC rainfall\n",
    "rain12 = xr.concat(\n",
    "    [\n",
    "        w.rain.sel(time=slice(\"2021-09-02 01:05:00\", \"2021-09-02 02:00:00\")).sum(\n",
    "            dim=\"time\"\n",
    "        )\n",
    "        for w in wofs_all\n",
    "    ],\n",
    "    dim=init,\n",
    ").chunk({\"init\": -1})\n"
   ]
  },
  {
   "cell_type": "code",
   "execution_count": 10,
   "metadata": {},
   "outputs": [],
   "source": [
    "# Find the point closest to Central Park\n",
    "nyc_lat, nyc_lon = 40.7826, -73.9656\n",
    "\n",
    "# Calculate Euclidean distance and find the nearest indices\n",
    "distance = np.sqrt((lat - nyc_lat) ** 2 + (lon - nyc_lon) ** 2)\n",
    "nyc_inds = distance.argmin(dim=[\"NY\", \"NX\"])\n",
    "lat_ind, lon_ind = int(nyc_inds[\"NY\"]), int(nyc_inds[\"NX\"])\n",
    "\n",
    "# Extract the rainfall value\n",
    "rain12_nyc = rain12.isel(lat=lat_ind, lon=lon_ind)\n"
   ]
  },
  {
   "cell_type": "markdown",
   "metadata": {},
   "source": [
    "## Calculate correlation"
   ]
  },
  {
   "cell_type": "code",
   "execution_count": 64,
   "metadata": {},
   "outputs": [],
   "source": [
    "# get correlation and p-values\n",
    "corr_u = xs.spearman_r(ivt_u,rain12_nyc,dim=[\"ne\",\"init\"]).load()\n",
    "pval_u = xs.spearman_r_p_value(ivt_u,rain12_nyc,dim=[\"ne\",\"init\"]).load()\n",
    "\n",
    "corr_v = xs.spearman_r(ivt_v,rain12_nyc,dim=[\"ne\",\"init\"]).load()\n",
    "pval_v = xs.spearman_r_p_value(ivt_v,rain12_nyc,dim=[\"ne\",\"init\"]).load()"
   ]
  },
  {
   "cell_type": "code",
   "execution_count": 79,
   "metadata": {},
   "outputs": [
    {
     "data": {
      "text/plain": [
       "<matplotlib.collections.QuadMesh at 0x7f1a4e2c3380>"
      ]
     },
     "execution_count": 79,
     "metadata": {},
     "output_type": "execute_result"
    },
    {
     "data": {
      "image/png": "[encoded data removed]",
      "text/plain": [
       "<Figure size 640x480 with 2 Axes>"
      ]
     },
     "metadata": {},
     "output_type": "display_data"
    }
   ],
   "source": [
    "data_v[0].plot()"
   ]
  },
  {
   "cell_type": "code",
   "execution_count": 11,
   "metadata": {},
   "outputs": [
    {
     "ename": "NameError",
     "evalue": "name 'corr_u' is not defined",
     "output_type": "error",
     "traceback": [
      "\u001b[0;31m---------------------------------------------------------------------------\u001b[0m",
      "\u001b[0;31mNameError\u001b[0m                                 Traceback (most recent call last)",
      "Cell \u001b[0;32mIn[11], line 2\u001b[0m\n\u001b[1;32m      1\u001b[0m \u001b[38;5;66;03m# Get data to plot\u001b[39;00m\n\u001b[0;32m----> 2\u001b[0m data_u \u001b[38;5;241m=\u001b[39m [\u001b[43mcorr_u\u001b[49m\u001b[38;5;241m.\u001b[39msel(time\u001b[38;5;241m=\u001b[39mt)\u001b[38;5;241m.\u001b[39msqueeze() \u001b[38;5;28;01mfor\u001b[39;00m t \u001b[38;5;129;01min\u001b[39;00m times]\n\u001b[1;32m      3\u001b[0m pdata_u \u001b[38;5;241m=\u001b[39m [pval_u\u001b[38;5;241m.\u001b[39msel(time\u001b[38;5;241m=\u001b[39mt)\u001b[38;5;241m.\u001b[39msqueeze() \u001b[38;5;28;01mfor\u001b[39;00m t \u001b[38;5;129;01min\u001b[39;00m times]\n\u001b[1;32m      4\u001b[0m data_v \u001b[38;5;241m=\u001b[39m [corr_v\u001b[38;5;241m.\u001b[39msel(time\u001b[38;5;241m=\u001b[39mt)\u001b[38;5;241m.\u001b[39msqueeze() \u001b[38;5;28;01mfor\u001b[39;00m t \u001b[38;5;129;01min\u001b[39;00m times]\n",
      "\u001b[0;31mNameError\u001b[0m: name 'corr_u' is not defined"
     ]
    }
   ],
   "source": [
    "# Get data to plot\n",
    "data_u = [corr_u.sel(time=t).squeeze() for t in times]\n",
    "pdata_u = [pval_u.sel(time=t).squeeze() for t in times]\n",
    "data_v = [corr_v.sel(time=t).squeeze() for t in times]\n",
    "pdata_v = [pval_v.sel(time=t).squeeze() for t in times]\n",
    "data = [*data_u,*data_v]\n",
    "pdata = [*pval_u,*pval_v]\n",
    "titles = [\n",
    "    \"Corr(IVT$_u$[23Z], RAIN[01-02Z,NYC])\",\n",
    "    \"Corr(IVT$_u$[0Z], RAIN[01-02Z,NYC])\",\n",
    "    \"Corr(IVT$_u$[01Z], RAIN[01-02Z,NYC])\",\n",
    "    \"Corr(IVT$_v$[23Z], RAIN[01-02Z,NYC])\",\n",
    "    \"Corr(IVT$_v$[0Z], RAIN[01-02Z,NYC])\",\n",
    "    \"Corr(IVT$_v$[01Z], RAIN[01-02Z,NYC])\",\n",
    "]\n",
    "\n",
    "# Make figure\n",
    "fig, axes = plt.subplots(\n",
    "    2,\n",
    "    3,\n",
    "    figsize=(\n",
    "        6,\n",
    "        5,\n",
    "    ),\n",
    "    dpi=300,\n",
    "    layout=\"constrained\",\n",
    "    subplot_kw=dict(projection=proj),\n",
    ")\n",
    "\n",
    "# Plot spatial correlation\n",
    "for i, ax in enumerate(axes.flatten()):\n",
    "    pc = ax.pcolormesh(\n",
    "        lon_coarse,\n",
    "        lat_coarse,\n",
    "        data[i].where(abs(pdata[i]) < 0.025),\n",
    "        cmap=\"RdBu_r\",\n",
    "        zorder=1,\n",
    "        transform=ccrs.PlateCarree(),\n",
    "        vmin=-0.75,\n",
    "        vmax=0.75,\n",
    "    )\n",
    "\n",
    "    ax.add_feature(cfeature.STATES, linewidth=0.5, edgecolor=\"white\", zorder=2)\n",
    "\n",
    "    ax.set_title(titles[i],fontsize=7)\n",
    "\n",
    "# Create a shared horizontal colorbar below the plots\n",
    "cb = fig.colorbar(\n",
    "    pc,\n",
    "    ax=axes,\n",
    "    orientation=\"horizontal\",\n",
    "    pad=0.05,\n",
    "    aspect=50,\n",
    "    shrink=0.8,\n",
    ")\n",
    "\n",
    "cb.ax.tick_params(labelsize=6)\n",
    "cb.set_label(r\"r$_s$\", fontsize=7)\n",
    "cb.set_ticks([-0.75, -0.5, -0.25, 0, 0.25, 0.5, 0.75])\n",
    "\n",
    "plt.show()\n"
   ]
  }
 ],
 "metadata": {
  "kernelspec": {
   "display_name": "wof",
   "language": "python",
   "name": "python3"
  },
  "language_info": {
   "codemirror_mode": {
    "name": "ipython",
    "version": 3
   },
   "file_extension": ".py",
   "mimetype": "text/x-python",
   "name": "python",
   "nbconvert_exporter": "python",
   "pygments_lexer": "ipython3",
   "version": "3.12.5"
  }
 },
 "nbformat": 4,
 "nbformat_minor": 2
}
