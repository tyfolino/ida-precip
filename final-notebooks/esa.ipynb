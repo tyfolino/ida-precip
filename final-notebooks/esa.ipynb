{
 "cells": [
  {
   "cell_type": "markdown",
   "metadata": {},
   "source": [
    "# Ensemble Sensitivity Analyses"
   ]
  },
  {
   "cell_type": "markdown",
   "metadata": {},
   "source": [
    "## Setup"
   ]
  },
  {
   "cell_type": "code",
   "execution_count": 1,
   "metadata": {},
   "outputs": [],
   "source": [
    "# Import statement\n",
    "import xarray as xr\n",
    "from typing import List\n",
    "import cartopy.crs as ccrs\n",
    "import numpy as np\n",
    "import xskillscore as xs\n",
    "import matplotlib.pyplot as plt\n",
    "import cartopy.feature as cfeature\n",
    "import matplotlib.patches as patches\n",
    "from scipy.ndimage import gaussian_filter\n",
    "import metpy.calc as mpcalc\n",
    "from metpy.units import units\n",
    "import scienceplots # noqa: F401\n",
    "import matplotlib as mpl\n",
    "\n",
    "plt.style.use([\"science\", \"nature\"])\n",
    "plt.rcParams[\"text.usetex\"] = True\n",
    "mpl.rcParams[\"hatch.linewidth\"] = 0.2\n"
   ]
  },
  {
   "cell_type": "code",
   "execution_count": null,
   "metadata": {},
   "outputs": [],
   "source": []
  }
 ],
 "metadata": {
  "kernelspec": {
   "display_name": "wof",
   "language": "python",
   "name": "python3"
  },
  "language_info": {
   "codemirror_mode": {
    "name": "ipython",
    "version": 3
   },
   "file_extension": ".py",
   "mimetype": "text/x-python",
   "name": "python",
   "nbconvert_exporter": "python",
   "pygments_lexer": "ipython3",
   "version": "3.12.8"
  }
 },
 "nbformat": 4,
 "nbformat_minor": 2
}
