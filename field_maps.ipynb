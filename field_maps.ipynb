{
 "cells": [
  {
   "cell_type": "markdown",
   "metadata": {},
   "source": [
    "# Spatial maps of WoFS fields\n",
    "\n",
    "By: Ty Janoski\n",
    "\n",
    "In this notebook, we will focus on making spatial maps of relevant fields from\n",
    "WoFS. Other types of plots will be elsewhere.\n"
   ]
  },
  {
   "cell_type": "markdown",
   "metadata": {},
   "source": [
    "## Import statements"
   ]
  },
  {
   "cell_type": "code",
   "execution_count": 1,
   "metadata": {},
   "outputs": [],
   "source": [
    "import xarray as xr"
   ]
  },
  {
   "cell_type": "markdown",
   "metadata": {},
   "source": [
    "## Read in data"
   ]
  },
  {
   "cell_type": "code",
   "execution_count": 2,
   "metadata": {},
   "outputs": [],
   "source": [
    "def load_data(init: str, keyword: str) -> xr.Dataset:\n",
    "\n",
    "    # Note that this function depends on a consistent file structure so if you\n",
    "    # change that, you'll need to change this function.\n",
    "    # First, determine starting date\n",
    "    start_date = \"2021-09-02\" if init in [\"00Z\", \"01Z\"] else \"2021-09-01\"\n",
    "    new_dates = xr.date_range(\n",
    "        start=start_date + \" \" + init[:-1] + \":00:00\",\n",
    "        end=\"2021-09-02 \" + str((int(init[:-1]) + 6) % 24).zfill(2) + \":00:00\",\n",
    "        freq=\"5min\",\n",
    "        use_cftime=True,\n",
    "    )\n",
    "\n",
    "    # read in data\n",
    "    data = xr.open_mfdataset(\n",
    "        \"/mnt/drive2/wof-runs/post-processed/\"\n",
    "        + init\n",
    "        + \"/wofs_\"\n",
    "        + keyword.upper()\n",
    "        + \"*.nc\",\n",
    "        concat_dim=\"time\",\n",
    "        combine=\"nested\",\n",
    "        parallel=True,\n",
    "    )\n",
    "    data[\"time\"] = new_dates\n",
    "    return data"
   ]
  },
  {
   "cell_type": "code",
   "execution_count": 3,
   "metadata": {},
   "outputs": [],
   "source": [
    "ens = [load_data(i, \"ens\") for i in [\"20Z\", \"21Z\", \"22Z\", \"23Z\", \"00Z\", \"01Z\"]]\n",
    "ens = [e.assign_coords(lat=e.lat, lon=e.lon, ne=e.ne) for e in ens]\n",
    "\n",
    "# Make a new DataArray\n",
    "init = xr.DataArray(data=[\"20Z\", \"21Z\", \"22Z\", \"23Z\", \"00Z\", \"01Z\"], dims=\"init\")\n",
    "init = init.assign_coords({\"init\": init})\n",
    "\n",
    "# concat\n",
    "ens = xr.concat(ens, dim=init).chunk({\"init\": 1, \"time\": -1})\n",
    "\n",
    "# grab UH and rain\n",
    "rain = ens.rain\n",
    "uh = ens.uh_0to2"
   ]
  },
  {
   "cell_type": "markdown",
   "metadata": {},
   "source": [
    "## Other functions"
   ]
  },
  {
   "cell_type": "code",
   "execution_count": 6,
   "metadata": {},
   "outputs": [],
   "source": [
    "def pmm(da: xr.DataArray) -> xr.DataArray:\n",
    "    # Create ensemble mean\n",
    "    ens_mean = da.mean(dim=\"run\").stack(i=(\"lat\", \"lon\"))\n",
    "\n",
    "    # Sort\n",
    "    sorted_mean = ens_mean.sortby(ens_mean)\n",
    "\n",
    "    # Sort with all ensemble members (no averaging)\n",
    "    sorted_all = np.sort(da.values.flatten())[:: len(da.run)]\n",
    "\n",
    "    # Replace values\n",
    "    sorted_mean.values = sorted_all\n",
    "\n",
    "    return sorted_mean.unstack(\"i\")"
   ]
  },
  {
   "cell_type": "code",
   "execution_count": null,
   "metadata": {},
   "outputs": [],
   "source": []
  }
 ],
 "metadata": {
  "kernelspec": {
   "display_name": "wof-3.11",
   "language": "python",
   "name": "python3"
  },
  "language_info": {
   "codemirror_mode": {
    "name": "ipython",
    "version": 3
   },
   "file_extension": ".py",
   "mimetype": "text/x-python",
   "name": "python",
   "nbconvert_exporter": "python",
   "pygments_lexer": "ipython3",
   "version": "3.11.9"
  }
 },
 "nbformat": 4,
 "nbformat_minor": 2
}
