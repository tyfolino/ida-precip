{
 "cells": [
  {
   "cell_type": "markdown",
   "metadata": {},
   "source": [
    "# Precipitation histograms in new WoFS simulations"
   ]
  },
  {
   "cell_type": "markdown",
   "metadata": {},
   "source": [
    "## Setup"
   ]
  },
  {
   "cell_type": "code",
   "execution_count": null,
   "metadata": {},
   "outputs": [],
   "source": [
    "# Import statements\n",
    "import xarray as xr\n",
    "import numpy as np\n",
    "import matplotlib.pyplot as plt\n",
    "from typing import List\n",
    "import cartopy.crs as ccrs\n",
    "\n",
    "\n",
    "from matplotlib.ticker import FuncFormatter"
   ]
  },
  {
   "cell_type": "markdown",
   "metadata": {},
   "source": [
    "### New WoFS"
   ]
  },
  {
   "cell_type": "code",
   "execution_count": 9,
   "metadata": {},
   "outputs": [],
   "source": [
    "def get_wofs_all(init: int) -> xr.Dataset:\n",
    "    \"\"\"Read in WoFS output based on initialization time.\"\"\"\n",
    "    file_pattern = f\"/mnt/drive2/new-wofs/{init:02d}Z/wofs_ALL*.nc\"\n",
    "    loaded = xr.open_mfdataset(\n",
    "        file_pattern, combine=\"nested\", concat_dim=\"time\", chunks=\"auto\"\n",
    "    )\n",
    "\n",
    "    if init < 6:\n",
    "        start_time = f\"2021-09-02 {init:02d}:00:00\"\n",
    "        end_time = f\"2021-09-02 {init + 6:02d}:00:00\"\n",
    "    elif init == 17:\n",
    "        start_time = f\"2021-09-01 {init:02d}:00:00\"\n",
    "        end_time = f\"2021-09-01 {init + 6:02d}:00:00\"\n",
    "    else:\n",
    "        start_time = f\"2021-09-01 {init:02d}:00:00\"\n",
    "        end_time = f\"2021-09-02 {init - 24 + 6:02d}:00:00\"\n",
    "\n",
    "    loaded[\"time\"] = xr.cftime_range(start_time, end_time, freq=\"5min\")\n",
    "    return loaded\n",
    "\n",
    "def get_field(\n",
    "    wofs_list: List[xr.Dataset],\n",
    "    varname: str,\n",
    "    start_time: str,\n",
    "    end_time: str,\n",
    "    init_dim: xr.DataArray,\n",
    ") -> xr.DataArray:\n",
    "    \"\"\"\n",
    "    Return a field (varname) for a given time slice across multiple datasets.\n",
    "\n",
    "    Parameters:\n",
    "    wofs_list (List[xr.Dataset]): List of xarray datasets.\n",
    "    varname (str): Name of the variable from the Dataset to get.\n",
    "    start_time (str): Start time for the time slice (format: 'YYYY-MM-DD HH:MM:SS').\n",
    "    end_time (str): End time for the time slice (format: 'YYYY-MM-DD HH:MM:SS').\n",
    "    init_dim (str): Name of the dimension to concatenate along.\n",
    "\n",
    "    Returns:\n",
    "    xr.DataArray: Summed-up variable concatenated along the specified dimension.\n",
    "    \"\"\"\n",
    "    return xr.concat(\n",
    "        [w[varname].sel(time=slice(start_time, end_time)) for w in wofs_list],\n",
    "        dim=init_dim,\n",
    "    ).chunk({\"init\": -1})\n",
    "\n",
    "def get_total_field(\n",
    "    wofs_list: List[xr.Dataset],\n",
    "    varname: str,\n",
    "    start_time: str,\n",
    "    end_time: str,\n",
    "    init_dim: xr.DataArray,\n",
    ") -> xr.DataArray:\n",
    "    \"\"\"\n",
    "    Calculate the sum of a field (varname) for a given time slice across multiple datasets.\n",
    "\n",
    "    Parameters:\n",
    "    wofs_list (List[xr.Dataset]): List of xarray datasets.\n",
    "    varname (str): Name of the variable from the Dataset to get.\n",
    "    start_time (str): Start time for the time slice (format: 'YYYY-MM-DD HH:MM:SS').\n",
    "    end_time (str): End time for the time slice (format: 'YYYY-MM-DD HH:MM:SS').\n",
    "    init_dim (str): Name of the dimension to concatenate along.\n",
    "\n",
    "    Returns:\n",
    "    xr.DataArray: Summed-up variable concatenated along the specified dimension.\n",
    "    \"\"\"\n",
    "    return xr.concat(\n",
    "        [\n",
    "            w[varname].sel(time=slice(start_time, end_time)).sum(dim=\"time\")\n",
    "            for w in wofs_list\n",
    "        ],\n",
    "        dim=init_dim,\n",
    "    ).chunk({\"init\": -1})"
   ]
  },
  {
   "cell_type": "code",
   "execution_count": 11,
   "metadata": {},
   "outputs": [],
   "source": [
    "# Load in 20-23Z initializations\n",
    "wofs_all = [get_wofs_all(i) for i in [20, 21, 22, 23]]\n",
    "\n",
    "# Define variables and parameters\n",
    "lat = wofs_all[0].xlat.isel(time=0).squeeze().drop_vars(\"time\")\n",
    "lon = wofs_all[0].xlon.isel(time=0).squeeze().drop_vars(\"time\")\n",
    "\n",
    "# Set up Cartopy projection\n",
    "\n",
    "proj = ccrs.LambertConformal(\n",
    "    central_longitude=wofs_all[0].attrs[\"CEN_LON\"],\n",
    "    central_latitude=wofs_all[0].attrs[\"CEN_LAT\"],\n",
    "    standard_parallels=(30, 60),\n",
    ")  # WoFS projection\n",
    "\n",
    "# Create a DataArray for the initialization dimension\n",
    "\n",
    "init = xr.DataArray(data=[\"20Z\", \"21Z\", \"22Z\", \"23Z\"], dims=\"init\").assign_coords(\n",
    "    {\"init\": [\"20Z\", \"21Z\", \"22Z\", \"23Z\"]}\n",
    ")\n"
   ]
  },
  {
   "cell_type": "code",
   "execution_count": 12,
   "metadata": {},
   "outputs": [],
   "source": [
    "# Get the 01 to 02 UTC rainfall\n",
    "rain12 = get_total_field(\n",
    "    wofs_all, \"rain\", \"2021-09-02 01:05:00\", \"2021-09-02 02:00:00\", init_dim=init\n",
    ")\n",
    "# rain01 = get_total_field(wofs_all, \"rain\", \"2021-09-02 00:05:00\", \"2021-09-02 01:00:00\", init_dim=init)\n",
    "\n",
    "# Calculate standard deviation of rainfall\n",
    "std = rain12.std(dim=(\"init\", \"ne\"))\n",
    "\n",
    "# Lastly, make our area of interest where sd > 65% of max sd\n",
    "aoi = std > (std.max() * 0.65)\n",
    "\n",
    "rain12_aoi = rain12.where(aoi).mean(dim=(\"lat\", \"lon\"), skipna=True)\n"
   ]
  },
  {
   "cell_type": "markdown",
   "metadata": {},
   "source": [
    "### Create Wet and Dry Ensembles"
   ]
  },
  {
   "cell_type": "code",
   "execution_count": 9,
   "metadata": {},
   "outputs": [],
   "source": [
    "# Get the indices of the wettest and driest ensemble members\n",
    "ne_wet = [\n",
    "    r.ne.where(r > r.quantile(0.75, dim=\"ne\")).dropna(dim=\"ne\").drop_vars(\"quantile\")\n",
    "    for r in rain_0102_point\n",
    "]\n",
    "ne_dry = [\n",
    "    r.ne.where(r < r.quantile(0.25, dim=\"ne\")).dropna(dim=\"ne\").drop_vars(\"quantile\")\n",
    "    for r in rain_0102_point\n",
    "]"
   ]
  },
  {
   "cell_type": "markdown",
   "metadata": {},
   "source": [
    "### NYC and area max rainfall"
   ]
  },
  {
   "cell_type": "code",
   "execution_count": 26,
   "metadata": {},
   "outputs": [],
   "source": [
    "wofs_wet = [wofs_all[i].sel(ne=ne_wet[i].astype(int)) for i in range(len(wofs_all)-1)]\n",
    "wofs_dry = [wofs_all[i].sel(ne=ne_dry[i].astype(int)) for i in range(len(wofs_all)-1)]"
   ]
  },
  {
   "cell_type": "code",
   "execution_count": 27,
   "metadata": {},
   "outputs": [],
   "source": [
    "# Function to overwrite ne values\n",
    "def overwrite_ne(da:xr.DataArray|xr.Dataset) -> xr.DataArray|xr.Dataset:\n",
    "    da[\"ne\"] = range(5)\n",
    "    return(da)"
   ]
  },
  {
   "cell_type": "code",
   "execution_count": 30,
   "metadata": {},
   "outputs": [],
   "source": [
    "# Make a new DataArray\n",
    "init = xr.DataArray(data=[\"20Z\", \"21Z\", \"22Z\", \"23Z\", \"00Z\"], dims=\"init\")\n",
    "init = init.assign_coords({\"init\": init})\n",
    "\n",
    "rain_0102_wet = (\n",
    "    xr.concat([overwrite_ne(w.rain) for w in wofs_wet], dim=init)  # type:ignore\n",
    "    .sel(time=slice(\"2021-09-02 01:05:00\", \"2021-09-02 02:00:00\"))\n",
    "    .sum(dim=\"time\")\n",
    "    .max(dim=[\"lat\", \"lon\"])\n",
    "    .chunk(\"auto\")\n",
    "    .stack(run=(\"init\", \"ne\"))\n",
    ")\n",
    "rain_0102_dry = (\n",
    "    xr.concat([overwrite_ne(w.rain) for w in wofs_dry], dim=init)  # type: ignore\n",
    "    .sel(time=slice(\"2021-09-02 01:05:00\", \"2021-09-02 02:00:00\"))\n",
    "    .sum(dim=\"time\")\n",
    "    .max(dim=[\"lat\", \"lon\"])\n",
    "    .chunk(\"auto\")\n",
    "    .stack(run=(\"init\", \"ne\"))\n",
    ")"
   ]
  },
  {
   "cell_type": "code",
   "execution_count": 34,
   "metadata": {},
   "outputs": [
    {
     "data": {
      "image/png": "[encoded data removed]",
      "text/plain": [
       "<Figure size 1050x600 with 1 Axes>"
      ]
     },
     "metadata": {},
     "output_type": "display_data"
    }
   ],
   "source": [
    "plt.style.use(\"dark_background\")\n",
    "bins = np.histogram_bin_edges(\n",
    "    np.concat([rain_0102_wet.values, rain_0102_dry.values]), bins=\"auto\"\n",
    ")\n",
    "\n",
    "# Make a list of titles\n",
    "title = \"Maximum 01–02 UTC Rainfall in WoFS Domain\"\n",
    "\n",
    "# Function to format the x-tick labels to two decimal points\n",
    "def two_decimal_formatter(x, pos):\n",
    "    return f\"{x:.2f}\"\n",
    "\n",
    "# Make a 1 x 1 figure with a histogram of 1-2 UTC rainfall for each initialization\n",
    "fig, ax = plt.subplots(\n",
    "    nrows=1,\n",
    "    ncols=1,\n",
    "    sharex=True,\n",
    "    sharey=True,\n",
    "    dpi=300,\n",
    "    figsize=(3.5, 2),\n",
    "    layout=\"constrained\",\n",
    ")\n",
    "\n",
    "# Width for the bars in the histograms\n",
    "bar_width = (bins[1] - bins[0]) / 2\n",
    "\n",
    "# Extract the data for the current initialization\n",
    "wet_data = rain_0102_wet.values\n",
    "dry_data = rain_0102_dry.values\n",
    "\n",
    "# Compute the histogram\n",
    "wet_hist, _ = np.histogram(wet_data, bins=bins)\n",
    "dry_hist, _ = np.histogram(dry_data, bins=bins)\n",
    "\n",
    "# Plot the histograms\n",
    "ax.bar(\n",
    "    bins[:-1],\n",
    "    wet_hist,\n",
    "    width=bar_width,\n",
    "    align=\"edge\",\n",
    "    edgecolor=\"white\",\n",
    "    color=\"green\",\n",
    "    label=\"Wet Ens.\",\n",
    ")\n",
    "ax.bar(\n",
    "    bins[:-1] + bar_width,\n",
    "    dry_hist,\n",
    "    width=bar_width,\n",
    "    align=\"edge\",\n",
    "    edgecolor=\"white\",\n",
    "    color=\"magenta\",\n",
    "    label=\"Dry Ens.\",\n",
    ")\n",
    "\n",
    "ax.xaxis.set_tick_params(which=\"both\", labelbottom=True)\n",
    "ax.tick_params(axis=\"both\", labelsize=6)\n",
    "ax.set_xticks(bins)\n",
    "ax.set_yticks(range(0,12,2))\n",
    "ax.yaxis.set_tick_params(which=\"both\", labelleft=True)\n",
    "ax.grid(color=\"lightgray\", linewidth=0.2)\n",
    "ax.set_title(title, fontsize=8)\n",
    "ax.set_xlabel(\"\")\n",
    "\n",
    "# Set the x-axis formatter to round to two decimal points\n",
    "ax.xaxis.set_major_formatter(FuncFormatter(two_decimal_formatter))\n",
    "\n",
    "ax.set_ylabel(\"Ens. Freq.\", fontsize=7)\n",
    "\n",
    "# Set the x-axis labels for the bottom row of plots\n",
    "ax.set_xlabel(\"(in)\", fontsize=7)\n",
    "\n",
    "# Set the x-axis limit\n",
    "plt.xlim(bins.min(), bins.max())\n",
    "\n",
    "# Add a legend to the plot\n",
    "ax.legend(fontsize=6)\n",
    "\n",
    "# Show the plot\n",
    "plt.show()"
   ]
  },
  {
   "cell_type": "code",
   "execution_count": null,
   "metadata": {},
   "outputs": [],
   "source": []
  }
 ],
 "metadata": {
  "kernelspec": {
   "display_name": "wof",
   "language": "python",
   "name": "python3"
  },
  "language_info": {
   "codemirror_mode": {
    "name": "ipython",
    "version": 3
   },
   "file_extension": ".py",
   "mimetype": "text/x-python",
   "name": "python",
   "nbconvert_exporter": "python",
   "pygments_lexer": "ipython3",
   "version": "3.12.7"
  }
 },
 "nbformat": 4,
 "nbformat_minor": 2
}
