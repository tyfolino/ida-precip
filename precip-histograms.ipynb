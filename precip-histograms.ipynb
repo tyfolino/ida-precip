{
 "cells": [
  {
   "cell_type": "markdown",
   "metadata": {},
   "source": [
    "## Setup"
   ]
  },
  {
   "cell_type": "code",
   "execution_count": 8,
   "metadata": {},
   "outputs": [],
   "source": [
    "# import statements\n",
    "import xarray as xr\n",
    "import numpy as np\n",
    "import pandas as pd"
   ]
  },
  {
   "cell_type": "code",
   "execution_count": 56,
   "metadata": {},
   "outputs": [],
   "source": [
    "# function because some of the simulations have a messed-up calendar\n",
    "def preprocess(ds_in: xr.Dataset) -> xr.Dataset:\n",
    "    ds_in.XTIME.attrs[\"units\"] = \"minutes since 2021-09-01 23:00:00\"\n",
    "    ds_in.XTIME.attrs[\"description\"] = \"minutes since 2021-09-01 23:00:00\"\n",
    "    return(ds_in)\n",
    "\n",
    "def load(var: str, init_time: str, ens_num: int):\n",
    "    path = \"/mnt/drive2/wof-runs/\"+init_time+\"/\"+var+\"/wrfwof*.{:02d}\".format(ens_num)\n",
    "    return(xr.open_mfdataset(path,preprocess=preprocess,\n",
    "                          decode_times=False,combine=\"nested\",\n",
    "                          concat_dim=\"Time\")\n",
    "    )\n",
    "def fix_xtime(ds_in: xr.Dataset,init_time: str) -> xr.Dataset:\n",
    "    if init_time in [\"20\", \"21\", \"22\", \"23\"]:\n",
    "        start_date = \"2021-09-01\"\n",
    "    elif init_time in [\"00\", \"01\", \"02\"]:\n",
    "        start_date = \"2021-09-02\"\n",
    "    else:\n",
    "        raise ValueError(\"Unexpected init_time provided.\")\n",
    "    ds_in.XTIME.attrs[\"units\"] = \"minutes since \"+start_date+\" \"+init_time+\":00:00\"\n",
    "    ds_in.XTIME.attrs[\"description\"] = (\"minutes since \"+start_date+\" \"+\n",
    "                                        init_time+\":00:00\")\n",
    "    return(xr.decode_cf(ds_in))"
   ]
  },
  {
   "cell_type": "markdown",
   "metadata": {},
   "source": [
    "## Read in WoFS simulations"
   ]
  },
  {
   "cell_type": "code",
   "execution_count": 57,
   "metadata": {},
   "outputs": [],
   "source": [
    "rainnc_20Z = xr.concat([fix_xtime(load(\"RAINNC\",\"20Z\",e),\"20\") for e in range(1,19)],\n",
    "                       \"ens\")\n",
    "rainnc_22Z = xr.concat([fix_xtime(load(\"RAINNC\",\"22Z\",e),\"22\") for e in range(1,19)],\n",
    "                       \"ens\")"
   ]
  },
  {
   "cell_type": "markdown",
   "metadata": {},
   "source": [
    "## Find the point closest to Central Park"
   ]
  },
  {
   "cell_type": "code",
   "execution_count": 63,
   "metadata": {},
   "outputs": [],
   "source": [
    "# Set desired latitude and longitude\n",
    "nyc_lat,nyc_lon = 40.7826,-73.9656\n",
    "\n",
    "# Isolate XLAT and XLONG for ease of use\n",
    "xlat = rainnc_20Z.XLAT.isel(Time=0).squeeze().drop_vars('XTIME')\n",
    "xlong = rainnc_20Z.XLONG.isel(Time=0).squeeze().drop_vars('XTIME')\n",
    "\n",
    "# Calculate the Euclidean distance between XLAT and XLONG values and the desired point\n",
    "distance = np.sqrt((xlat-nyc_lat)**2 + (xlong-nyc_lon)**2)\n",
    "\n",
    "# Find where the distance is minimized\n",
    "nyc_inds = distance.argmin(dim=[\"south_north\",\"west_east\"])"
   ]
  },
  {
   "cell_type": "code",
   "execution_count": 64,
   "metadata": {},
   "outputs": [
    {
     "data": {
      "text/plain": [
       "xarray.core.dataarray.DataArray"
      ]
     },
     "execution_count": 64,
     "metadata": {},
     "output_type": "execute_result"
    }
   ],
   "source": [
    "type(nyc_inds['south_north'])"
   ]
  },
  {
   "cell_type": "markdown",
   "metadata": {},
   "source": [
    "## Calculate 1-hour accumulated rainfall for 1-2Z"
   ]
  },
  {
   "cell_type": "code",
   "execution_count": 69,
   "metadata": {},
   "outputs": [],
   "source": [
    "def get_NYC_1Z_to_2Z(ds_in: xr.Dataset, lat_index: xr.DataArray,\n",
    "                      lon_index: xr.DataArray):\n",
    "    hour = ds_in.isel(Time=abs(rainnc_20Z.XTIME - np.datetime64(\n",
    "        pd.to_datetime(\"2021-09-02 02:00:00\"))).argmin()) - ds_in.isel(Time=abs(\n",
    "            rainnc_20Z.XTIME - np.datetime64(\n",
    "                pd.to_datetime(\"2021-09-02 01:00:00\"))).argmin())\n",
    "    return(hour.isel(south_north = lat_index,west_east = lon_index))"
   ]
  },
  {
   "cell_type": "code",
   "execution_count": 71,
   "metadata": {},
   "outputs": [],
   "source": [
    "rainy_hour_20Z = get_NYC_1Z_to_2Z(\n",
    "    rainnc_20Z,nyc_inds[\"south_north\"],nyc_inds[\"west_east\"]\n",
    "    ).RAINNC\n",
    "\n",
    "rainy_hour_22Z = get_NYC_1Z_to_2Z(\n",
    "    rainnc_22Z,nyc_inds[\"south_north\"],nyc_inds[\"west_east\"]\n",
    "    ).RAINNC"
   ]
  }
 ],
 "metadata": {
  "kernelspec": {
   "display_name": "wof",
   "language": "python",
   "name": "python3"
  },
  "language_info": {
   "codemirror_mode": {
    "name": "ipython",
    "version": 3
   },
   "file_extension": ".py",
   "mimetype": "text/x-python",
   "name": "python",
   "nbconvert_exporter": "python",
   "pygments_lexer": "ipython3",
   "version": "3.12.2"
  }
 },
 "nbformat": 4,
 "nbformat_minor": 2
}
