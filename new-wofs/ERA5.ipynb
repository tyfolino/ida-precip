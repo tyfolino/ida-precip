{
 "cells": [
  {
   "cell_type": "markdown",
   "metadata": {},
   "source": [
    "# ERA5 Plotting Notebook\n",
    "\n",
    "By: Ty Janoski"
   ]
  },
  {
   "cell_type": "markdown",
   "metadata": {},
   "source": [
    "## Setup"
   ]
  },
  {
   "cell_type": "code",
   "execution_count": null,
   "metadata": {},
   "outputs": [],
   "source": [
    "# Import statements\n",
    "import xarray as xr\n",
    "import scienceplots  # type: ignore\n",
    "import matplotlib.pyplot as plt\n",
    "import boto3\n",
    "from botocore import UNSIGNED\n",
    "from botocore.config import Config\n",
    "\n",
    "plt.style.use([\"science\", \"nature\"])\n"
   ]
  },
  {
   "cell_type": "code",
   "execution_count": null,
   "metadata": {},
   "outputs": [],
   "source": [
    "# Make the above code into a function\n",
    "def read_in_era5_data(bucket_name: str, path: str, hour: str) -> xr.DataArray:\n",
    "    # Set up S3 client\n",
    "    s3 = boto3.client(\n",
    "        \"s3\", region_name=\"us-east-1\", config=Config(signature_version=UNSIGNED)\n",
    "    )\n",
    "\n",
    "    # List objects from AWS Bucket\n",
    "    response = s3.list_objects_v2(Bucket=bucket_name, Prefix=path)\n",
    "\n",
    "    # Find key containing hour.grib2.gz, which is the file we want\n",
    "    for obj in response[\"Contents\"]:\n",
    "        if f\"{hour}.grib2.gz\" in obj[\"Key\"]:\n",
    "            key = obj[\"Key\"]\n",
    "            break\n",
    "\n",
    "    # Read in the file\n",
    "    grib_data = BytesIO()\n",
    "    s3.download_fileobj(bucket_name, key, grib_data)\n",
    "    grib_data.seek(0)\n",
    "\n",
    "    with tempfile.NamedTemporaryFile(suffix=\".grib2\", delete=False) as tmp_file:\n",
    "        with gzip.open(grib_data, \"rb\") as f:\n",
    "            tmp_file.write(f.read())\n",
    "        tmp_file_path = tmp_file.name\n",
    "\n",
    "        \n",
    "        da = xr.open_dataarray(tmp_file_path, engine=\"cfgrib\")\n",
    "\n",
    "    return da\n",
    "    "
   ]
  },
  {
   "cell_type": "code",
   "execution_count": null,
   "metadata": {},
   "outputs": [],
   "source": [
    "bucket_name = \"nsf-ncar-era5\"\n",
    "\n",
    "s3 = boto3.client(\"s3\", region_name=\"us-west-2\", config=Config(signature_version=UNSIGNED))\n",
    "\n"
   ]
  }
 ],
 "metadata": {
  "kernelspec": {
   "display_name": "wof",
   "language": "python",
   "name": "python3"
  },
  "language_info": {
   "codemirror_mode": {
    "name": "ipython",
    "version": 3
   },
   "file_extension": ".py",
   "mimetype": "text/x-python",
   "name": "python",
   "nbconvert_exporter": "python",
   "pygments_lexer": "ipython3",
   "version": "3.12.8"
  }
 },
 "nbformat": 4,
 "nbformat_minor": 2
}
